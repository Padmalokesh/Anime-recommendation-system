{
 "cells": [
  {
   "cell_type": "markdown",
   "metadata": {
    "papermill": {
     "duration": 0.023881,
     "end_time": "2021-08-10T16:06:01.646433",
     "exception": false,
     "start_time": "2021-08-10T16:06:01.622552",
     "status": "completed"
    },
    "tags": []
   },
   "source": [
    "# Anime Recommendation System\n",
    " "
   ]
  },
  {
   "cell_type": "markdown",
   "metadata": {
    "papermill": {
     "duration": 0.020083,
     "end_time": "2021-08-10T16:06:01.690947",
     "exception": false,
     "start_time": "2021-08-10T16:06:01.670864",
     "status": "completed"
    },
    "tags": []
   },
   "source": [
    "<img src=\"https://miro.medium.com/max/1400/1*nFQqETyMOcItF_0IasBcfw.jpeg\" style=\"width: 100%; height: 100%\" align = \"left\">\n"
   ]
  },
  {
   "cell_type": "markdown",
   "metadata": {
    "papermill": {
     "duration": 0.01934,
     "end_time": "2021-08-10T16:06:01.730995",
     "exception": false,
     "start_time": "2021-08-10T16:06:01.711655",
     "status": "completed"
    },
    "tags": []
   },
   "source": [
    "# Table of contents\n",
    "\n",
    "[<h3> 1. Exploratory data analysis and data cleaning</h3>](#1)\n",
    "\n",
    "[<h3>2. Collaborative Recommendation System</h3>](#2)\n",
    "\n",
    "[<h3>3. Recommendations</h3>](#3)\n",
    "\n",
    "   [<h4>3.1. Naruto</h4>](#4)\n",
    "\n",
    "  "
   ]
  },
  {
   "cell_type": "markdown",
   "metadata": {
    "papermill": {
     "duration": 0.021126,
     "end_time": "2021-08-10T16:06:01.773616",
     "exception": false,
     "start_time": "2021-08-10T16:06:01.752490",
     "status": "completed"
    },
    "tags": []
   },
   "source": [
    "In the notebook we will build a basic anime collaborative recommendation system. First of all let's have a look at the dataset.\n",
    "\n",
    "This data set contains information on user preference data from 73,516 users on 12,294 anime. Each user is able to add anime to their completed list and give it a rating and this data set is a compilation of those ratings. Its composition in numbers: \n",
    "* 20.000.000 ratings\n",
    "* 460.000 tags\n",
    "* 27.000 movies\n",
    "\n",
    "<h2> Content:</h2>\n",
    "\n",
    "**Anime.csv that contains ratings of movies by users:**\n",
    "* **anime_id** - myanimelist.net's unique id identifying an anime.\n",
    "* **name** - full name of anime.\n",
    "* **genre** - comma separated list of genres for this anime.\n",
    "* **type** - movie, TV, OVA, etc.\n",
    "* **episodes** - how many episodes in this show. (1 if movie).\n",
    "* **rating** - average rating out of 10 for this anime.\n",
    "* **members** - number of community members that are in this anime's\n",
    "\"group\".\n",
    "\n",
    "**Rating.csv that contains movie information:**\n",
    "* **user_id** - non identifiable randomly generated user id.\n",
    "* **anime_id** - the anime that this user has rated.\n",
    "* **rating** - rating out of 10 this user has assigned (-1 if the user watched it but didn't assign a rating).\n",
    "\n",
    "\n",
    "\n"
   ]
  },
  {
   "cell_type": "markdown",
   "metadata": {
    "papermill": {
     "duration": 0.01896,
     "end_time": "2021-08-10T16:06:01.813435",
     "exception": false,
     "start_time": "2021-08-10T16:06:01.794475",
     "status": "completed"
    },
    "tags": []
   },
   "source": [
    "# 1. Exploratory data analysis and data cleaning<a class=\"anchor\" id=\"1\"></a>\n",
    "\n"
   ]
  },
  {
   "cell_type": "code",
   "execution_count": 2,
   "metadata": {
    "_cell_guid": "79c7e3d0-c299-4dcb-8224-4455121ee9b0",
    "_uuid": "d629ff2d2480ee46fbb7e2d37f6b5fab8052498a",
    "execution": {
     "iopub.execute_input": "2021-08-10T16:06:01.860641Z",
     "iopub.status.busy": "2021-08-10T16:06:01.859863Z",
     "iopub.status.idle": "2021-08-10T16:06:06.965408Z",
     "shell.execute_reply": "2021-08-10T16:06:06.965980Z"
    },
    "papermill": {
     "duration": 5.133336,
     "end_time": "2021-08-10T16:06:06.966173",
     "exception": false,
     "start_time": "2021-08-10T16:06:01.832837",
     "status": "completed"
    },
    "tags": []
   },
   "outputs": [],
   "source": [
    "import pandas as pd\n",
    "import numpy as np\n",
    "import seaborn as sns\n",
    "import matplotlib.pyplot as plt\n",
    "anime = pd.read_csv('anime dataset.csv')\n",
    "rating = pd.read_csv('rating.csv')"
   ]
  },
  {
   "cell_type": "code",
   "execution_count": 3,
   "metadata": {
    "execution": {
     "iopub.execute_input": "2021-08-10T16:06:07.018126Z",
     "iopub.status.busy": "2021-08-10T16:06:07.017070Z",
     "iopub.status.idle": "2021-08-10T16:06:07.036907Z",
     "shell.execute_reply": "2021-08-10T16:06:07.037432Z"
    },
    "papermill": {
     "duration": 0.050829,
     "end_time": "2021-08-10T16:06:07.037599",
     "exception": false,
     "start_time": "2021-08-10T16:06:06.986770",
     "status": "completed"
    },
    "tags": []
   },
   "outputs": [
    {
     "data": {
      "text/html": [
       "<div>\n",
       "<style scoped>\n",
       "    .dataframe tbody tr th:only-of-type {\n",
       "        vertical-align: middle;\n",
       "    }\n",
       "\n",
       "    .dataframe tbody tr th {\n",
       "        vertical-align: top;\n",
       "    }\n",
       "\n",
       "    .dataframe thead th {\n",
       "        text-align: right;\n",
       "    }\n",
       "</style>\n",
       "<table border=\"1\" class=\"dataframe\">\n",
       "  <thead>\n",
       "    <tr style=\"text-align: right;\">\n",
       "      <th></th>\n",
       "      <th>anime_id</th>\n",
       "      <th>name</th>\n",
       "      <th>genre</th>\n",
       "      <th>type</th>\n",
       "      <th>episodes</th>\n",
       "      <th>rating</th>\n",
       "      <th>members</th>\n",
       "    </tr>\n",
       "  </thead>\n",
       "  <tbody>\n",
       "    <tr>\n",
       "      <td>0</td>\n",
       "      <td>32281</td>\n",
       "      <td>Kimi no Na wa.</td>\n",
       "      <td>Drama, Romance, School, Supernatural</td>\n",
       "      <td>Movie</td>\n",
       "      <td>1</td>\n",
       "      <td>9.37</td>\n",
       "      <td>200630</td>\n",
       "    </tr>\n",
       "    <tr>\n",
       "      <td>1</td>\n",
       "      <td>5114</td>\n",
       "      <td>Fullmetal Alchemist: Brotherhood</td>\n",
       "      <td>Action, Adventure, Drama, Fantasy, Magic, Mili...</td>\n",
       "      <td>TV</td>\n",
       "      <td>64</td>\n",
       "      <td>9.26</td>\n",
       "      <td>793665</td>\n",
       "    </tr>\n",
       "    <tr>\n",
       "      <td>2</td>\n",
       "      <td>28977</td>\n",
       "      <td>Gintama°</td>\n",
       "      <td>Action, Comedy, Historical, Parody, Samurai, S...</td>\n",
       "      <td>TV</td>\n",
       "      <td>51</td>\n",
       "      <td>9.25</td>\n",
       "      <td>114262</td>\n",
       "    </tr>\n",
       "    <tr>\n",
       "      <td>3</td>\n",
       "      <td>9253</td>\n",
       "      <td>Steins;Gate</td>\n",
       "      <td>Sci-Fi, Thriller</td>\n",
       "      <td>TV</td>\n",
       "      <td>24</td>\n",
       "      <td>9.17</td>\n",
       "      <td>673572</td>\n",
       "    </tr>\n",
       "    <tr>\n",
       "      <td>4</td>\n",
       "      <td>9969</td>\n",
       "      <td>Gintama&amp;#039;</td>\n",
       "      <td>Action, Comedy, Historical, Parody, Samurai, S...</td>\n",
       "      <td>TV</td>\n",
       "      <td>51</td>\n",
       "      <td>9.16</td>\n",
       "      <td>151266</td>\n",
       "    </tr>\n",
       "  </tbody>\n",
       "</table>\n",
       "</div>"
      ],
      "text/plain": [
       "   anime_id                              name  \\\n",
       "0     32281                    Kimi no Na wa.   \n",
       "1      5114  Fullmetal Alchemist: Brotherhood   \n",
       "2     28977                          Gintama°   \n",
       "3      9253                       Steins;Gate   \n",
       "4      9969                     Gintama&#039;   \n",
       "\n",
       "                                               genre   type episodes  rating  \\\n",
       "0               Drama, Romance, School, Supernatural  Movie        1    9.37   \n",
       "1  Action, Adventure, Drama, Fantasy, Magic, Mili...     TV       64    9.26   \n",
       "2  Action, Comedy, Historical, Parody, Samurai, S...     TV       51    9.25   \n",
       "3                                   Sci-Fi, Thriller     TV       24    9.17   \n",
       "4  Action, Comedy, Historical, Parody, Samurai, S...     TV       51    9.16   \n",
       "\n",
       "   members  \n",
       "0   200630  \n",
       "1   793665  \n",
       "2   114262  \n",
       "3   673572  \n",
       "4   151266  "
      ]
     },
     "execution_count": 3,
     "metadata": {},
     "output_type": "execute_result"
    }
   ],
   "source": [
    "anime.head()"
   ]
  },
  {
   "cell_type": "code",
   "execution_count": 4,
   "metadata": {
    "execution": {
     "iopub.execute_input": "2021-08-10T16:06:07.083426Z",
     "iopub.status.busy": "2021-08-10T16:06:07.082397Z",
     "iopub.status.idle": "2021-08-10T16:06:07.092132Z",
     "shell.execute_reply": "2021-08-10T16:06:07.092620Z"
    },
    "papermill": {
     "duration": 0.034747,
     "end_time": "2021-08-10T16:06:07.092776",
     "exception": false,
     "start_time": "2021-08-10T16:06:07.058029",
     "status": "completed"
    },
    "tags": []
   },
   "outputs": [
    {
     "data": {
      "text/html": [
       "<div>\n",
       "<style scoped>\n",
       "    .dataframe tbody tr th:only-of-type {\n",
       "        vertical-align: middle;\n",
       "    }\n",
       "\n",
       "    .dataframe tbody tr th {\n",
       "        vertical-align: top;\n",
       "    }\n",
       "\n",
       "    .dataframe thead th {\n",
       "        text-align: right;\n",
       "    }\n",
       "</style>\n",
       "<table border=\"1\" class=\"dataframe\">\n",
       "  <thead>\n",
       "    <tr style=\"text-align: right;\">\n",
       "      <th></th>\n",
       "      <th>user_id</th>\n",
       "      <th>anime_id</th>\n",
       "      <th>rating</th>\n",
       "    </tr>\n",
       "  </thead>\n",
       "  <tbody>\n",
       "    <tr>\n",
       "      <td>0</td>\n",
       "      <td>1</td>\n",
       "      <td>20</td>\n",
       "      <td>-1</td>\n",
       "    </tr>\n",
       "    <tr>\n",
       "      <td>1</td>\n",
       "      <td>1</td>\n",
       "      <td>24</td>\n",
       "      <td>-1</td>\n",
       "    </tr>\n",
       "    <tr>\n",
       "      <td>2</td>\n",
       "      <td>1</td>\n",
       "      <td>79</td>\n",
       "      <td>-1</td>\n",
       "    </tr>\n",
       "    <tr>\n",
       "      <td>3</td>\n",
       "      <td>1</td>\n",
       "      <td>226</td>\n",
       "      <td>-1</td>\n",
       "    </tr>\n",
       "    <tr>\n",
       "      <td>4</td>\n",
       "      <td>1</td>\n",
       "      <td>241</td>\n",
       "      <td>-1</td>\n",
       "    </tr>\n",
       "  </tbody>\n",
       "</table>\n",
       "</div>"
      ],
      "text/plain": [
       "   user_id  anime_id  rating\n",
       "0        1        20      -1\n",
       "1        1        24      -1\n",
       "2        1        79      -1\n",
       "3        1       226      -1\n",
       "4        1       241      -1"
      ]
     },
     "execution_count": 4,
     "metadata": {},
     "output_type": "execute_result"
    }
   ],
   "source": [
    "rating.head()"
   ]
  },
  {
   "cell_type": "code",
   "execution_count": 5,
   "metadata": {
    "execution": {
     "iopub.execute_input": "2021-08-10T16:06:07.138554Z",
     "iopub.status.busy": "2021-08-10T16:06:07.137443Z",
     "iopub.status.idle": "2021-08-10T16:06:07.165602Z",
     "shell.execute_reply": "2021-08-10T16:06:07.166088Z"
    },
    "papermill": {
     "duration": 0.053027,
     "end_time": "2021-08-10T16:06:07.166248",
     "exception": false,
     "start_time": "2021-08-10T16:06:07.113221",
     "status": "completed"
    },
    "tags": []
   },
   "outputs": [
    {
     "data": {
      "text/html": [
       "<div>\n",
       "<style scoped>\n",
       "    .dataframe tbody tr th:only-of-type {\n",
       "        vertical-align: middle;\n",
       "    }\n",
       "\n",
       "    .dataframe tbody tr th {\n",
       "        vertical-align: top;\n",
       "    }\n",
       "\n",
       "    .dataframe thead th {\n",
       "        text-align: right;\n",
       "    }\n",
       "</style>\n",
       "<table border=\"1\" class=\"dataframe\">\n",
       "  <thead>\n",
       "    <tr style=\"text-align: right;\">\n",
       "      <th></th>\n",
       "      <th>anime_id</th>\n",
       "      <th>rating</th>\n",
       "      <th>members</th>\n",
       "    </tr>\n",
       "  </thead>\n",
       "  <tbody>\n",
       "    <tr>\n",
       "      <td>count</td>\n",
       "      <td>12294.000000</td>\n",
       "      <td>12064.000000</td>\n",
       "      <td>1.229400e+04</td>\n",
       "    </tr>\n",
       "    <tr>\n",
       "      <td>mean</td>\n",
       "      <td>14058.221653</td>\n",
       "      <td>6.473902</td>\n",
       "      <td>1.807134e+04</td>\n",
       "    </tr>\n",
       "    <tr>\n",
       "      <td>std</td>\n",
       "      <td>11455.294701</td>\n",
       "      <td>1.026746</td>\n",
       "      <td>5.482068e+04</td>\n",
       "    </tr>\n",
       "    <tr>\n",
       "      <td>min</td>\n",
       "      <td>1.000000</td>\n",
       "      <td>1.670000</td>\n",
       "      <td>5.000000e+00</td>\n",
       "    </tr>\n",
       "    <tr>\n",
       "      <td>25%</td>\n",
       "      <td>3484.250000</td>\n",
       "      <td>5.880000</td>\n",
       "      <td>2.250000e+02</td>\n",
       "    </tr>\n",
       "    <tr>\n",
       "      <td>50%</td>\n",
       "      <td>10260.500000</td>\n",
       "      <td>6.570000</td>\n",
       "      <td>1.550000e+03</td>\n",
       "    </tr>\n",
       "    <tr>\n",
       "      <td>75%</td>\n",
       "      <td>24794.500000</td>\n",
       "      <td>7.180000</td>\n",
       "      <td>9.437000e+03</td>\n",
       "    </tr>\n",
       "    <tr>\n",
       "      <td>max</td>\n",
       "      <td>34527.000000</td>\n",
       "      <td>10.000000</td>\n",
       "      <td>1.013917e+06</td>\n",
       "    </tr>\n",
       "  </tbody>\n",
       "</table>\n",
       "</div>"
      ],
      "text/plain": [
       "           anime_id        rating       members\n",
       "count  12294.000000  12064.000000  1.229400e+04\n",
       "mean   14058.221653      6.473902  1.807134e+04\n",
       "std    11455.294701      1.026746  5.482068e+04\n",
       "min        1.000000      1.670000  5.000000e+00\n",
       "25%     3484.250000      5.880000  2.250000e+02\n",
       "50%    10260.500000      6.570000  1.550000e+03\n",
       "75%    24794.500000      7.180000  9.437000e+03\n",
       "max    34527.000000     10.000000  1.013917e+06"
      ]
     },
     "execution_count": 5,
     "metadata": {},
     "output_type": "execute_result"
    }
   ],
   "source": [
    "anime.describe()"
   ]
  },
  {
   "cell_type": "code",
   "execution_count": 6,
   "metadata": {
    "execution": {
     "iopub.execute_input": "2021-08-10T16:06:07.280833Z",
     "iopub.status.busy": "2021-08-10T16:06:07.279901Z",
     "iopub.status.idle": "2021-08-10T16:06:07.909412Z",
     "shell.execute_reply": "2021-08-10T16:06:07.908499Z"
    },
    "papermill": {
     "duration": 0.721853,
     "end_time": "2021-08-10T16:06:07.909587",
     "exception": false,
     "start_time": "2021-08-10T16:06:07.187734",
     "status": "completed"
    },
    "tags": []
   },
   "outputs": [
    {
     "data": {
      "text/html": [
       "<div>\n",
       "<style scoped>\n",
       "    .dataframe tbody tr th:only-of-type {\n",
       "        vertical-align: middle;\n",
       "    }\n",
       "\n",
       "    .dataframe tbody tr th {\n",
       "        vertical-align: top;\n",
       "    }\n",
       "\n",
       "    .dataframe thead th {\n",
       "        text-align: right;\n",
       "    }\n",
       "</style>\n",
       "<table border=\"1\" class=\"dataframe\">\n",
       "  <thead>\n",
       "    <tr style=\"text-align: right;\">\n",
       "      <th></th>\n",
       "      <th>user_id</th>\n",
       "      <th>anime_id</th>\n",
       "      <th>rating</th>\n",
       "    </tr>\n",
       "  </thead>\n",
       "  <tbody>\n",
       "    <tr>\n",
       "      <td>count</td>\n",
       "      <td>7.813737e+06</td>\n",
       "      <td>7.813737e+06</td>\n",
       "      <td>7.813737e+06</td>\n",
       "    </tr>\n",
       "    <tr>\n",
       "      <td>mean</td>\n",
       "      <td>3.672796e+04</td>\n",
       "      <td>8.909072e+03</td>\n",
       "      <td>6.144030e+00</td>\n",
       "    </tr>\n",
       "    <tr>\n",
       "      <td>std</td>\n",
       "      <td>2.099795e+04</td>\n",
       "      <td>8.883950e+03</td>\n",
       "      <td>3.727800e+00</td>\n",
       "    </tr>\n",
       "    <tr>\n",
       "      <td>min</td>\n",
       "      <td>1.000000e+00</td>\n",
       "      <td>1.000000e+00</td>\n",
       "      <td>-1.000000e+00</td>\n",
       "    </tr>\n",
       "    <tr>\n",
       "      <td>25%</td>\n",
       "      <td>1.897400e+04</td>\n",
       "      <td>1.240000e+03</td>\n",
       "      <td>6.000000e+00</td>\n",
       "    </tr>\n",
       "    <tr>\n",
       "      <td>50%</td>\n",
       "      <td>3.679100e+04</td>\n",
       "      <td>6.213000e+03</td>\n",
       "      <td>7.000000e+00</td>\n",
       "    </tr>\n",
       "    <tr>\n",
       "      <td>75%</td>\n",
       "      <td>5.475700e+04</td>\n",
       "      <td>1.409300e+04</td>\n",
       "      <td>9.000000e+00</td>\n",
       "    </tr>\n",
       "    <tr>\n",
       "      <td>max</td>\n",
       "      <td>7.351600e+04</td>\n",
       "      <td>3.451900e+04</td>\n",
       "      <td>1.000000e+01</td>\n",
       "    </tr>\n",
       "  </tbody>\n",
       "</table>\n",
       "</div>"
      ],
      "text/plain": [
       "            user_id      anime_id        rating\n",
       "count  7.813737e+06  7.813737e+06  7.813737e+06\n",
       "mean   3.672796e+04  8.909072e+03  6.144030e+00\n",
       "std    2.099795e+04  8.883950e+03  3.727800e+00\n",
       "min    1.000000e+00  1.000000e+00 -1.000000e+00\n",
       "25%    1.897400e+04  1.240000e+03  6.000000e+00\n",
       "50%    3.679100e+04  6.213000e+03  7.000000e+00\n",
       "75%    5.475700e+04  1.409300e+04  9.000000e+00\n",
       "max    7.351600e+04  3.451900e+04  1.000000e+01"
      ]
     },
     "execution_count": 6,
     "metadata": {},
     "output_type": "execute_result"
    }
   ],
   "source": [
    "rating.describe()"
   ]
  },
  {
   "cell_type": "code",
   "execution_count": 7,
   "metadata": {
    "execution": {
     "iopub.execute_input": "2021-08-10T16:06:07.959476Z",
     "iopub.status.busy": "2021-08-10T16:06:07.958780Z",
     "iopub.status.idle": "2021-08-10T16:06:08.007442Z",
     "shell.execute_reply": "2021-08-10T16:06:08.006850Z"
    },
    "papermill": {
     "duration": 0.075894,
     "end_time": "2021-08-10T16:06:08.007580",
     "exception": false,
     "start_time": "2021-08-10T16:06:07.931686",
     "status": "completed"
    },
    "tags": []
   },
   "outputs": [
    {
     "data": {
      "text/plain": [
       " 8     1646019\n",
       "-1     1476496\n",
       " 7     1375287\n",
       " 9     1254096\n",
       " 10     955715\n",
       " 6      637775\n",
       " 5      282806\n",
       " 4      104291\n",
       " 3       41453\n",
       " 2       23150\n",
       " 1       16649\n",
       "Name: rating, dtype: int64"
      ]
     },
     "execution_count": 7,
     "metadata": {},
     "output_type": "execute_result"
    }
   ],
   "source": [
    "# Lets have a look the distribution of ratings, because those \"-1\" are suspicious\n",
    "rating.rating.value_counts()"
   ]
  },
  {
   "cell_type": "markdown",
   "metadata": {
    "papermill": {
     "duration": 0.022776,
     "end_time": "2021-08-10T16:06:08.052737",
     "exception": false,
     "start_time": "2021-08-10T16:06:08.029961",
     "status": "completed"
    },
    "tags": []
   },
   "source": [
    "I'm not sure what the \"-1\" mean because the ratings goes from 1 up to 10. Maybe it means, that no rating are available. Therefore we will delete the row with \"-1\" in rating"
   ]
  },
  {
   "cell_type": "code",
   "execution_count": 8,
   "metadata": {
    "execution": {
     "iopub.execute_input": "2021-08-10T16:06:08.104048Z",
     "iopub.status.busy": "2021-08-10T16:06:08.103321Z",
     "iopub.status.idle": "2021-08-10T16:06:08.315319Z",
     "shell.execute_reply": "2021-08-10T16:06:08.314579Z"
    },
    "papermill": {
     "duration": 0.240001,
     "end_time": "2021-08-10T16:06:08.315457",
     "exception": false,
     "start_time": "2021-08-10T16:06:08.075456",
     "status": "completed"
    },
    "tags": []
   },
   "outputs": [],
   "source": [
    "# I'm not sure what the \"-1\" mean because the ratings goes from 1 up to 10. \n",
    "# Maybe it means, that no rating are available. \n",
    "# Therefore we will delete the rows with \"-1\" in rating\n",
    "rating = rating[rating[\"rating\"] != -1]"
   ]
  },
  {
   "cell_type": "code",
   "execution_count": 9,
   "metadata": {
    "execution": {
     "iopub.execute_input": "2021-08-10T16:06:08.367297Z",
     "iopub.status.busy": "2021-08-10T16:06:08.366594Z",
     "iopub.status.idle": "2021-08-10T16:06:08.369602Z",
     "shell.execute_reply": "2021-08-10T16:06:08.370072Z"
    },
    "papermill": {
     "duration": 0.031846,
     "end_time": "2021-08-10T16:06:08.370241",
     "exception": false,
     "start_time": "2021-08-10T16:06:08.338395",
     "status": "completed"
    },
    "tags": []
   },
   "outputs": [
    {
     "name": "stdout",
     "output_type": "stream",
     "text": [
      "anime.csv - rows: 12294, columns: 7\n",
      "rating.csv - rows: 6337241, columns: 3\n"
     ]
    }
   ],
   "source": [
    "print(f\"anime.csv - rows: {anime.shape[0]}, columns: {anime.shape[1]}\")\n",
    "print(f\"rating.csv - rows: {rating.shape[0]}, columns: {rating.shape[1]}\")"
   ]
  },
  {
   "cell_type": "code",
   "execution_count": 10,
   "metadata": {
    "execution": {
     "iopub.execute_input": "2021-08-10T16:06:08.424141Z",
     "iopub.status.busy": "2021-08-10T16:06:08.423408Z",
     "iopub.status.idle": "2021-08-10T16:06:08.944106Z",
     "shell.execute_reply": "2021-08-10T16:06:08.943361Z"
    },
    "papermill": {
     "duration": 0.550171,
     "end_time": "2021-08-10T16:06:08.944246",
     "exception": false,
     "start_time": "2021-08-10T16:06:08.394075",
     "status": "completed"
    },
    "tags": []
   },
   "outputs": [
    {
     "data": {
      "image/png": "[encoded data removed]",
      "text/plain": [
       "<Figure size 576x432 with 2 Axes>"
      ]
     },
     "metadata": {
      "needs_background": "light"
     },
     "output_type": "display_data"
    }
   ],
   "source": [
    "plt.figure(figsize=(8,6))\n",
    "sns.heatmap(anime.isnull())\n",
    "plt.title(\"Missing values in anime?\", fontsize = 15)\n",
    "plt.show()"
   ]
  },
  {
   "cell_type": "markdown",
   "metadata": {
    "papermill": {
     "duration": 0.024312,
     "end_time": "2021-08-10T16:06:08.992906",
     "exception": false,
     "start_time": "2021-08-10T16:06:08.968594",
     "status": "completed"
    },
    "tags": []
   },
   "source": [
    "The anime dataset has some missing values in rating and genre, but we can ignore them, because we won't use those columns later."
   ]
  },
  {
   "cell_type": "code",
   "execution_count": 11,
   "metadata": {
    "execution": {
     "iopub.execute_input": "2021-08-10T16:06:09.048468Z",
     "iopub.status.busy": "2021-08-10T16:06:09.047680Z",
     "iopub.status.idle": "2021-08-10T16:06:25.598783Z",
     "shell.execute_reply": "2021-08-10T16:06:25.598048Z"
    },
    "papermill": {
     "duration": 16.581452,
     "end_time": "2021-08-10T16:06:25.598909",
     "exception": false,
     "start_time": "2021-08-10T16:06:09.017457",
     "status": "completed"
    },
    "tags": []
   },
   "outputs": [
    {
     "data": {
      "image/png": "[encoded data removed]",
      "text/plain": [
       "<Figure size 576x432 with 2 Axes>"
      ]
     },
     "metadata": {
      "needs_background": "light"
     },
     "output_type": "display_data"
    }
   ],
   "source": [
    "plt.figure(figsize=(8,6))\n",
    "sns.heatmap(rating.isnull())\n",
    "plt.title(\"Missing values in rating?\", fontsize = 15)\n",
    "plt.show()"
   ]
  },
  {
   "cell_type": "markdown",
   "metadata": {
    "papermill": {
     "duration": 0.025543,
     "end_time": "2021-08-10T16:06:25.656933",
     "exception": false,
     "start_time": "2021-08-10T16:06:25.631390",
     "status": "completed"
    },
    "tags": []
   },
   "source": [
    "## 1.1. Prepare the data"
   ]
  },
  {
   "cell_type": "code",
   "execution_count": 12,
   "metadata": {
    "execution": {
     "iopub.execute_input": "2021-08-10T16:06:25.720083Z",
     "iopub.status.busy": "2021-08-10T16:06:25.719342Z",
     "iopub.status.idle": "2021-08-10T16:06:26.643838Z",
     "shell.execute_reply": "2021-08-10T16:06:26.644338Z"
    },
    "papermill": {
     "duration": 0.961621,
     "end_time": "2021-08-10T16:06:26.644497",
     "exception": false,
     "start_time": "2021-08-10T16:06:25.682876",
     "status": "completed"
    },
    "tags": []
   },
   "outputs": [
    {
     "data": {
      "text/html": [
       "<div>\n",
       "<style scoped>\n",
       "    .dataframe tbody tr th:only-of-type {\n",
       "        vertical-align: middle;\n",
       "    }\n",
       "\n",
       "    .dataframe tbody tr th {\n",
       "        vertical-align: top;\n",
       "    }\n",
       "\n",
       "    .dataframe thead th {\n",
       "        text-align: right;\n",
       "    }\n",
       "</style>\n",
       "<table border=\"1\" class=\"dataframe\">\n",
       "  <thead>\n",
       "    <tr style=\"text-align: right;\">\n",
       "      <th></th>\n",
       "      <th>user_id</th>\n",
       "      <th>rating</th>\n",
       "      <th>name</th>\n",
       "    </tr>\n",
       "  </thead>\n",
       "  <tbody>\n",
       "    <tr>\n",
       "      <td>0</td>\n",
       "      <td>1</td>\n",
       "      <td>10</td>\n",
       "      <td>Highschool of the Dead</td>\n",
       "    </tr>\n",
       "    <tr>\n",
       "      <td>1</td>\n",
       "      <td>3</td>\n",
       "      <td>6</td>\n",
       "      <td>Highschool of the Dead</td>\n",
       "    </tr>\n",
       "    <tr>\n",
       "      <td>2</td>\n",
       "      <td>5</td>\n",
       "      <td>2</td>\n",
       "      <td>Highschool of the Dead</td>\n",
       "    </tr>\n",
       "    <tr>\n",
       "      <td>3</td>\n",
       "      <td>12</td>\n",
       "      <td>6</td>\n",
       "      <td>Highschool of the Dead</td>\n",
       "    </tr>\n",
       "    <tr>\n",
       "      <td>4</td>\n",
       "      <td>14</td>\n",
       "      <td>6</td>\n",
       "      <td>Highschool of the Dead</td>\n",
       "    </tr>\n",
       "  </tbody>\n",
       "</table>\n",
       "</div>"
      ],
      "text/plain": [
       "   user_id  rating                    name\n",
       "0        1      10  Highschool of the Dead\n",
       "1        3       6  Highschool of the Dead\n",
       "2        5       2  Highschool of the Dead\n",
       "3       12       6  Highschool of the Dead\n",
       "4       14       6  Highschool of the Dead"
      ]
     },
     "execution_count": 12,
     "metadata": {},
     "output_type": "execute_result"
    }
   ],
   "source": [
    "# Merge anime and rating using \"anime_id\" as reference\n",
    "# Keep only the columns we will use\n",
    "df = pd.merge(rating,anime[[\"anime_id\",\"name\"]], left_on = \"anime_id\", right_on = \"anime_id\").drop(\"anime_id\", axis = 1)\n",
    "df.head()"
   ]
  },
  {
   "cell_type": "code",
   "execution_count": 13,
   "metadata": {
    "execution": {
     "iopub.execute_input": "2021-08-10T16:06:27.086428Z",
     "iopub.status.busy": "2021-08-10T16:06:26.810732Z",
     "iopub.status.idle": "2021-08-10T16:06:27.483593Z",
     "shell.execute_reply": "2021-08-10T16:06:27.483000Z"
    },
    "papermill": {
     "duration": 0.81213,
     "end_time": "2021-08-10T16:06:27.483717",
     "exception": false,
     "start_time": "2021-08-10T16:06:26.671587",
     "status": "completed"
    },
    "tags": []
   },
   "outputs": [
    {
     "data": {
      "text/plain": [
       "name\n",
       "Death Note                         34226\n",
       "Sword Art Online                   26310\n",
       "Shingeki no Kyojin                 25290\n",
       "Code Geass: Hangyaku no Lelouch    24126\n",
       "Angel Beats!                       23565\n",
       "                                   ...  \n",
       "Ashita no Eleventachi                  1\n",
       "Ashita e Mukau Hito                    1\n",
       "Shounen Ninja Kaze no Fujimaru         1\n",
       "Hi no Tori: Hagoromo-hen               1\n",
       "Mechakko Dotakon                       1\n",
       "Name: rating, Length: 9926, dtype: int64"
      ]
     },
     "execution_count": 13,
     "metadata": {},
     "output_type": "execute_result"
    }
   ],
   "source": [
    "# count the rating for each anime\n",
    "count_rating = df.groupby(\"name\")[\"rating\"].count().sort_values(ascending = False)\n",
    "count_rating"
   ]
  },
  {
   "cell_type": "code",
   "execution_count": 14,
   "metadata": {
    "execution": {
     "iopub.execute_input": "2021-08-10T16:06:27.694240Z",
     "iopub.status.busy": "2021-08-10T16:06:27.550306Z",
     "iopub.status.idle": "2021-08-10T16:06:33.616078Z",
     "shell.execute_reply": "2021-08-10T16:06:33.615424Z"
    },
    "papermill": {
     "duration": 6.105258,
     "end_time": "2021-08-10T16:06:33.616204",
     "exception": false,
     "start_time": "2021-08-10T16:06:27.510946",
     "status": "completed"
    },
    "tags": []
   },
   "outputs": [],
   "source": [
    "# Some animes have only 1 rating, therefore it is better for the recommender system to ignore them\n",
    "# We will keep only the animes with at least r ratings\n",
    "r = 5000\n",
    "more_than_r_ratings = count_rating[count_rating.apply(lambda x: x >= r)].index\n",
    "\n",
    "# Keep only the animes with a least r ratings in the DataFrame\n",
    "df_r = df[df['name'].apply(lambda x: x in more_than_r_ratings)]"
   ]
  },
  {
   "cell_type": "code",
   "execution_count": 15,
   "metadata": {
    "execution": {
     "iopub.execute_input": "2021-08-10T16:06:34.055556Z",
     "iopub.status.busy": "2021-08-10T16:06:34.054531Z",
     "iopub.status.idle": "2021-08-10T16:06:34.512287Z",
     "shell.execute_reply": "2021-08-10T16:06:34.511298Z"
    },
    "papermill": {
     "duration": 0.869498,
     "end_time": "2021-08-10T16:06:34.512473",
     "exception": false,
     "start_time": "2021-08-10T16:06:33.642975",
     "status": "completed"
    },
    "tags": []
   },
   "outputs": [
    {
     "name": "stdout",
     "output_type": "stream",
     "text": [
      "There are 9926 animes in the dataset before filtering and 279 animes after the filtering.\n",
      "\n",
      "9926 animes => 279 animes\n",
      "6337239 rows before filtering => 2517097 rows after filtering\n"
     ]
    }
   ],
   "source": [
    "before = len(df.name.unique())\n",
    "after = len(df_r.name.unique())\n",
    "rows_before = df.shape[0]\n",
    "rows_after = df_r.shape[0]\n",
    "print(f'''There are {before} animes in the dataset before filtering and {after} animes after the filtering.\n",
    "\n",
    "{before} animes => {after} animes\n",
    "{rows_before} rows before filtering => {rows_after} rows after filtering''')"
   ]
  },
  {
   "cell_type": "markdown",
   "metadata": {
    "papermill": {
     "duration": 0.027184,
     "end_time": "2021-08-10T16:06:34.567420",
     "exception": false,
     "start_time": "2021-08-10T16:06:34.540236",
     "status": "completed"
    },
    "tags": []
   },
   "source": [
    "# 2. Collaborative Recommendation System<a class=\"anchor\" id=\"2\"></a>"
   ]
  },
  {
   "cell_type": "code",
   "execution_count": 16,
   "metadata": {
    "execution": {
     "iopub.execute_input": "2021-08-10T16:06:34.634684Z",
     "iopub.status.busy": "2021-08-10T16:06:34.633521Z",
     "iopub.status.idle": "2021-08-10T16:06:37.359304Z",
     "shell.execute_reply": "2021-08-10T16:06:37.358527Z"
    },
    "papermill": {
     "duration": 2.764542,
     "end_time": "2021-08-10T16:06:37.359433",
     "exception": false,
     "start_time": "2021-08-10T16:06:34.594891",
     "status": "completed"
    },
    "tags": []
   },
   "outputs": [
    {
     "data": {
      "text/html": [
       "<div>\n",
       "<style scoped>\n",
       "    .dataframe tbody tr th:only-of-type {\n",
       "        vertical-align: middle;\n",
       "    }\n",
       "\n",
       "    .dataframe tbody tr th {\n",
       "        vertical-align: top;\n",
       "    }\n",
       "\n",
       "    .dataframe thead th {\n",
       "        text-align: right;\n",
       "    }\n",
       "</style>\n",
       "<table border=\"1\" class=\"dataframe\">\n",
       "  <thead>\n",
       "    <tr style=\"text-align: right;\">\n",
       "      <th>name</th>\n",
       "      <th>Accel World</th>\n",
       "      <th>Afro Samurai</th>\n",
       "      <th>Air</th>\n",
       "      <th>Air Gear</th>\n",
       "      <th>Akame ga Kill!</th>\n",
       "    </tr>\n",
       "    <tr>\n",
       "      <th>user_id</th>\n",
       "      <th></th>\n",
       "      <th></th>\n",
       "      <th></th>\n",
       "      <th></th>\n",
       "      <th></th>\n",
       "    </tr>\n",
       "  </thead>\n",
       "  <tbody>\n",
       "    <tr>\n",
       "      <td>1</td>\n",
       "      <td>NaN</td>\n",
       "      <td>NaN</td>\n",
       "      <td>NaN</td>\n",
       "      <td>NaN</td>\n",
       "      <td>NaN</td>\n",
       "    </tr>\n",
       "    <tr>\n",
       "      <td>2</td>\n",
       "      <td>NaN</td>\n",
       "      <td>NaN</td>\n",
       "      <td>NaN</td>\n",
       "      <td>NaN</td>\n",
       "      <td>NaN</td>\n",
       "    </tr>\n",
       "    <tr>\n",
       "      <td>3</td>\n",
       "      <td>7.0</td>\n",
       "      <td>6.0</td>\n",
       "      <td>NaN</td>\n",
       "      <td>NaN</td>\n",
       "      <td>8.0</td>\n",
       "    </tr>\n",
       "    <tr>\n",
       "      <td>5</td>\n",
       "      <td>3.0</td>\n",
       "      <td>NaN</td>\n",
       "      <td>NaN</td>\n",
       "      <td>NaN</td>\n",
       "      <td>4.0</td>\n",
       "    </tr>\n",
       "    <tr>\n",
       "      <td>7</td>\n",
       "      <td>8.0</td>\n",
       "      <td>NaN</td>\n",
       "      <td>NaN</td>\n",
       "      <td>NaN</td>\n",
       "      <td>NaN</td>\n",
       "    </tr>\n",
       "  </tbody>\n",
       "</table>\n",
       "</div>"
      ],
      "text/plain": [
       "name     Accel World  Afro Samurai  Air  Air Gear  Akame ga Kill!\n",
       "user_id                                                          \n",
       "1                NaN           NaN  NaN       NaN             NaN\n",
       "2                NaN           NaN  NaN       NaN             NaN\n",
       "3                7.0           6.0  NaN       NaN             8.0\n",
       "5                3.0           NaN  NaN       NaN             4.0\n",
       "7                8.0           NaN  NaN       NaN             NaN"
      ]
     },
     "execution_count": 16,
     "metadata": {},
     "output_type": "execute_result"
    }
   ],
   "source": [
    "# Create a matrix with userId as rows and the titles of the movies as column.\n",
    "# Each cell will have the rating given by the user to the animes.\n",
    "# There will be a lot of NaN values, because each user hasn't watched most of the animes\n",
    "df_recom = df_r.pivot_table(index='user_id',columns='name',values='rating')\n",
    "df_recom.iloc[:5,:5]"
   ]
  },
  {
   "cell_type": "code",
   "execution_count": 17,
   "metadata": {
    "execution": {
     "iopub.execute_input": "2021-08-10T16:06:37.993795Z",
     "iopub.status.busy": "2021-08-10T16:06:37.993090Z",
     "iopub.status.idle": "2021-08-10T16:06:38.003758Z",
     "shell.execute_reply": "2021-08-10T16:06:38.003061Z"
    },
    "papermill": {
     "duration": 0.615915,
     "end_time": "2021-08-10T16:06:38.003887",
     "exception": false,
     "start_time": "2021-08-10T16:06:37.387972",
     "status": "completed"
    },
    "tags": []
   },
   "outputs": [
    {
     "data": {
      "text/plain": [
       "Death Note                            34226\n",
       "Sword Art Online                      26310\n",
       "Shingeki no Kyojin                    25290\n",
       "Code Geass: Hangyaku no Lelouch       24126\n",
       "Angel Beats!                          23565\n",
       "Elfen Lied                            23528\n",
       "Naruto                                22071\n",
       "Fullmetal Alchemist: Brotherhood      21494\n",
       "Fullmetal Alchemist                   21332\n",
       "Code Geass: Hangyaku no Lelouch R2    21124\n",
       "Name: name, dtype: int64"
      ]
     },
     "execution_count": 17,
     "metadata": {},
     "output_type": "execute_result"
    }
   ],
   "source": [
    "df_r.name.value_counts().head(10)"
   ]
  },
  {
   "cell_type": "code",
   "execution_count": 18,
   "metadata": {
    "execution": {
     "iopub.execute_input": "2021-08-10T16:06:38.068671Z",
     "iopub.status.busy": "2021-08-10T16:06:38.067774Z",
     "iopub.status.idle": "2021-08-10T16:06:38.070944Z",
     "shell.execute_reply": "2021-08-10T16:06:38.070313Z"
    },
    "papermill": {
     "duration": 0.038468,
     "end_time": "2021-08-10T16:06:38.071067",
     "exception": false,
     "start_time": "2021-08-10T16:06:38.032599",
     "status": "completed"
    },
    "tags": []
   },
   "outputs": [],
   "source": [
    "def find_corr(df, name):\n",
    "    '''\n",
    "    Get the correlation of one anime with the others\n",
    "    \n",
    "    Args\n",
    "        df (DataFrame):  with user_id as rows and movie titles as column and ratings as values\n",
    "        name (str): Name of the anime\n",
    "    \n",
    "    Return\n",
    "        DataFrame with the correlation of the anime with all others\n",
    "    '''\n",
    "    \n",
    "    similar_to_movie = df.corrwith(df[name])\n",
    "    similar_to_movie = pd.DataFrame(similar_to_movie,columns=['Correlation'])\n",
    "    similar_to_movie = similar_to_movie.sort_values(by = 'Correlation', ascending = False)\n",
    "    return similar_to_movie"
   ]
  },
  {
   "cell_type": "markdown",
   "metadata": {
    "papermill": {
     "duration": 0.030167,
     "end_time": "2021-08-10T16:06:38.129548",
     "exception": false,
     "start_time": "2021-08-10T16:06:38.099381",
     "status": "completed"
    },
    "tags": []
   },
   "source": [
    "# 3. Recommendations <a class=\"anchor\" id=\"3\"></a>\n",
    "\n",
    "Let's try the recommendation system on three animes.\n",
    "\n",
    "* The higher the correlation, the higher the possibility that the viewer of the selected anime will like the recommended anime\n",
    "* Negative correlation means that the viewer is likely to dislikes the anime"
   ]
  },
  {
   "cell_type": "markdown",
   "metadata": {
    "papermill": {
     "duration": 0.029965,
     "end_time": "2021-08-10T16:06:38.191724",
     "exception": false,
     "start_time": "2021-08-10T16:06:38.161759",
     "status": "completed"
    },
    "tags": []
   },
   "source": [
    "## 3.1. [Naruto](https://en.wikipedia.org/wiki/Naruto)<a class=\"anchor\" id=\"4\"></a>\n",
    "<img src=\"https://upload.wikimedia.org/wikipedia/en/9/94/NarutoCoverTankobon1.jpg\" style=\"width: 20%; height: 20%\" align = \"left\">\n"
   ]
  },
  {
   "cell_type": "code",
   "execution_count": 18,
   "metadata": {
    "execution": {
     "iopub.execute_input": "2021-08-10T16:06:38.255186Z",
     "iopub.status.busy": "2021-08-10T16:06:38.254393Z",
     "iopub.status.idle": "2021-08-10T16:06:38.906848Z",
     "shell.execute_reply": "2021-08-10T16:06:38.906282Z"
    },
    "papermill": {
     "duration": 0.685558,
     "end_time": "2021-08-10T16:06:38.906978",
     "exception": false,
     "start_time": "2021-08-10T16:06:38.221420",
     "status": "completed"
    },
    "tags": []
   },
   "outputs": [
    {
     "data": {
      "text/html": [
       "<div>\n",
       "<style scoped>\n",
       "    .dataframe tbody tr th:only-of-type {\n",
       "        vertical-align: middle;\n",
       "    }\n",
       "\n",
       "    .dataframe tbody tr th {\n",
       "        vertical-align: top;\n",
       "    }\n",
       "\n",
       "    .dataframe thead th {\n",
       "        text-align: right;\n",
       "    }\n",
       "</style>\n",
       "<table border=\"1\" class=\"dataframe\">\n",
       "  <thead>\n",
       "    <tr style=\"text-align: right;\">\n",
       "      <th></th>\n",
       "      <th>Correlation</th>\n",
       "    </tr>\n",
       "    <tr>\n",
       "      <th>name</th>\n",
       "      <th></th>\n",
       "    </tr>\n",
       "  </thead>\n",
       "  <tbody>\n",
       "    <tr>\n",
       "      <th>Naruto</th>\n",
       "      <td>1.000000</td>\n",
       "    </tr>\n",
       "    <tr>\n",
       "      <th>Naruto Movie 1: Dai Katsugeki!! Yuki Hime Shinobu Houjou Dattebayo!</th>\n",
       "      <td>0.582344</td>\n",
       "    </tr>\n",
       "    <tr>\n",
       "      <th>Naruto: Shippuuden Movie 1</th>\n",
       "      <td>0.578797</td>\n",
       "    </tr>\n",
       "    <tr>\n",
       "      <th>Bleach</th>\n",
       "      <td>0.547983</td>\n",
       "    </tr>\n",
       "    <tr>\n",
       "      <th>Fairy Tail</th>\n",
       "      <td>0.444271</td>\n",
       "    </tr>\n",
       "    <tr>\n",
       "      <th>Bleach Movie 2: The DiamondDust Rebellion - Mou Hitotsu no Hyourinmaru</th>\n",
       "      <td>0.439225</td>\n",
       "    </tr>\n",
       "    <tr>\n",
       "      <th>Dragon Ball Z</th>\n",
       "      <td>0.437442</td>\n",
       "    </tr>\n",
       "    <tr>\n",
       "      <th>InuYasha</th>\n",
       "      <td>0.433100</td>\n",
       "    </tr>\n",
       "    <tr>\n",
       "      <th>Dragon Ball GT</th>\n",
       "      <td>0.429704</td>\n",
       "    </tr>\n",
       "    <tr>\n",
       "      <th>Katekyo Hitman Reborn!</th>\n",
       "      <td>0.419789</td>\n",
       "    </tr>\n",
       "    <tr>\n",
       "      <th>Bleach Movie 3: Fade to Black - Kimi no Na wo Yobu</th>\n",
       "      <td>0.419365</td>\n",
       "    </tr>\n",
       "    <tr>\n",
       "      <th>Sekirei</th>\n",
       "      <td>0.414942</td>\n",
       "    </tr>\n",
       "    <tr>\n",
       "      <th>Digimon Adventure 02</th>\n",
       "      <td>0.407363</td>\n",
       "    </tr>\n",
       "    <tr>\n",
       "      <th>Shaman King</th>\n",
       "      <td>0.406672</td>\n",
       "    </tr>\n",
       "    <tr>\n",
       "      <th>Highschool of the Dead: Drifters of the Dead</th>\n",
       "      <td>0.405049</td>\n",
       "    </tr>\n",
       "    <tr>\n",
       "      <th>Sword Art Online</th>\n",
       "      <td>0.403405</td>\n",
       "    </tr>\n",
       "    <tr>\n",
       "      <th>Zero no Tsukaima: Princesses no Rondo</th>\n",
       "      <td>0.402688</td>\n",
       "    </tr>\n",
       "    <tr>\n",
       "      <th>Hidan no Aria</th>\n",
       "      <td>0.399668</td>\n",
       "    </tr>\n",
       "    <tr>\n",
       "      <th>Ao no Exorcist</th>\n",
       "      <td>0.395867</td>\n",
       "    </tr>\n",
       "    <tr>\n",
       "      <th>Rosario to Vampire Capu2</th>\n",
       "      <td>0.390456</td>\n",
       "    </tr>\n",
       "    <tr>\n",
       "      <th>Dragon Ball</th>\n",
       "      <td>0.390240</td>\n",
       "    </tr>\n",
       "    <tr>\n",
       "      <th>Freezing</th>\n",
       "      <td>0.387331</td>\n",
       "    </tr>\n",
       "    <tr>\n",
       "      <th>Bleach Movie 1: Memories of Nobody</th>\n",
       "      <td>0.387316</td>\n",
       "    </tr>\n",
       "    <tr>\n",
       "      <th>D.Gray-man</th>\n",
       "      <td>0.383425</td>\n",
       "    </tr>\n",
       "    <tr>\n",
       "      <th>High School DxD</th>\n",
       "      <td>0.380910</td>\n",
       "    </tr>\n",
       "    <tr>\n",
       "      <th>IS: Infinite Stratos</th>\n",
       "      <td>0.380273</td>\n",
       "    </tr>\n",
       "    <tr>\n",
       "      <th>Rosario to Vampire</th>\n",
       "      <td>0.380027</td>\n",
       "    </tr>\n",
       "    <tr>\n",
       "      <th>Zero no Tsukaima F</th>\n",
       "      <td>0.378118</td>\n",
       "    </tr>\n",
       "    <tr>\n",
       "      <th>To LOVE-Ru</th>\n",
       "      <td>0.371702</td>\n",
       "    </tr>\n",
       "    <tr>\n",
       "      <th>Pokemon</th>\n",
       "      <td>0.371403</td>\n",
       "    </tr>\n",
       "    <tr>\n",
       "      <th>Btooom!</th>\n",
       "      <td>0.368317</td>\n",
       "    </tr>\n",
       "    <tr>\n",
       "      <th>Magi: The Labyrinth of Magic</th>\n",
       "      <td>0.368031</td>\n",
       "    </tr>\n",
       "    <tr>\n",
       "      <th>Zero no Tsukaima: Futatsuki no Kishi</th>\n",
       "      <td>0.367477</td>\n",
       "    </tr>\n",
       "    <tr>\n",
       "      <th>Vampire Knight Guilty</th>\n",
       "      <td>0.365996</td>\n",
       "    </tr>\n",
       "    <tr>\n",
       "      <th>Shingeki no Kyojin</th>\n",
       "      <td>0.364871</td>\n",
       "    </tr>\n",
       "    <tr>\n",
       "      <th>Sword Art Online II</th>\n",
       "      <td>0.363782</td>\n",
       "    </tr>\n",
       "    <tr>\n",
       "      <th>Owari no Seraph</th>\n",
       "      <td>0.362857</td>\n",
       "    </tr>\n",
       "    <tr>\n",
       "      <th>Highschool of the Dead</th>\n",
       "      <td>0.360508</td>\n",
       "    </tr>\n",
       "    <tr>\n",
       "      <th>Vampire Knight</th>\n",
       "      <td>0.359510</td>\n",
       "    </tr>\n",
       "    <tr>\n",
       "      <th>Dungeon ni Deai wo Motomeru no wa Machigatteiru Darou ka</th>\n",
       "      <td>0.356348</td>\n",
       "    </tr>\n",
       "  </tbody>\n",
       "</table>\n",
       "</div>"
      ],
      "text/plain": [
       "                                                    Correlation\n",
       "name                                                           \n",
       "Naruto                                                 1.000000\n",
       "Naruto Movie 1: Dai Katsugeki!! Yuki Hime Shino...     0.582344\n",
       "Naruto: Shippuuden Movie 1                             0.578797\n",
       "Bleach                                                 0.547983\n",
       "Fairy Tail                                             0.444271\n",
       "Bleach Movie 2: The DiamondDust Rebellion - Mou...     0.439225\n",
       "Dragon Ball Z                                          0.437442\n",
       "InuYasha                                               0.433100\n",
       "Dragon Ball GT                                         0.429704\n",
       "Katekyo Hitman Reborn!                                 0.419789\n",
       "Bleach Movie 3: Fade to Black - Kimi no Na wo Yobu     0.419365\n",
       "Sekirei                                                0.414942\n",
       "Digimon Adventure 02                                   0.407363\n",
       "Shaman King                                            0.406672\n",
       "Highschool of the Dead: Drifters of the Dead           0.405049\n",
       "Sword Art Online                                       0.403405\n",
       "Zero no Tsukaima: Princesses no Rondo                  0.402688\n",
       "Hidan no Aria                                          0.399668\n",
       "Ao no Exorcist                                         0.395867\n",
       "Rosario to Vampire Capu2                               0.390456\n",
       "Dragon Ball                                            0.390240\n",
       "Freezing                                               0.387331\n",
       "Bleach Movie 1: Memories of Nobody                     0.387316\n",
       "D.Gray-man                                             0.383425\n",
       "High School DxD                                        0.380910\n",
       "IS: Infinite Stratos                                   0.380273\n",
       "Rosario to Vampire                                     0.380027\n",
       "Zero no Tsukaima F                                     0.378118\n",
       "To LOVE-Ru                                             0.371702\n",
       "Pokemon                                                0.371403\n",
       "Btooom!                                                0.368317\n",
       "Magi: The Labyrinth of Magic                           0.368031\n",
       "Zero no Tsukaima: Futatsuki no Kishi                   0.367477\n",
       "Vampire Knight Guilty                                  0.365996\n",
       "Shingeki no Kyojin                                     0.364871\n",
       "Sword Art Online II                                    0.363782\n",
       "Owari no Seraph                                        0.362857\n",
       "Highschool of the Dead                                 0.360508\n",
       "Vampire Knight                                         0.359510\n",
       "Dungeon ni Deai wo Motomeru no wa Machigatteiru...     0.356348"
      ]
     },
     "execution_count": 18,
     "metadata": {},
     "output_type": "execute_result"
    }
   ],
   "source": [
    "# Let's choose an anime\n",
    "anime1 = 'Naruto'\n",
    "\n",
    "# Let's try with \"Naruto\"\n",
    "\n",
    "# Recommendations\n",
    "find_corr(df_recom, anime1).head(40)"
   ]
  },
  {
   "cell_type": "code",
   "execution_count": 19,
   "metadata": {
    "execution": {
     "iopub.execute_input": "2021-08-10T16:06:38.975793Z",
     "iopub.status.busy": "2021-08-10T16:06:38.974754Z",
     "iopub.status.idle": "2021-08-10T16:06:39.599067Z",
     "shell.execute_reply": "2021-08-10T16:06:39.598361Z"
    },
    "papermill": {
     "duration": 0.661533,
     "end_time": "2021-08-10T16:06:39.599230",
     "exception": false,
     "start_time": "2021-08-10T16:06:38.937697",
     "status": "completed"
    },
    "tags": []
   },
   "outputs": [
    {
     "data": {
      "text/html": [
       "<div>\n",
       "<style scoped>\n",
       "    .dataframe tbody tr th:only-of-type {\n",
       "        vertical-align: middle;\n",
       "    }\n",
       "\n",
       "    .dataframe tbody tr th {\n",
       "        vertical-align: top;\n",
       "    }\n",
       "\n",
       "    .dataframe thead th {\n",
       "        text-align: right;\n",
       "    }\n",
       "</style>\n",
       "<table border=\"1\" class=\"dataframe\">\n",
       "  <thead>\n",
       "    <tr style=\"text-align: right;\">\n",
       "      <th></th>\n",
       "      <th>Correlation</th>\n",
       "    </tr>\n",
       "    <tr>\n",
       "      <th>name</th>\n",
       "      <th></th>\n",
       "    </tr>\n",
       "  </thead>\n",
       "  <tbody>\n",
       "    <tr>\n",
       "      <th>Clannad: Mou Hitotsu no Sekai, Tomoyo-hen</th>\n",
       "      <td>0.168322</td>\n",
       "    </tr>\n",
       "    <tr>\n",
       "      <th>School Days</th>\n",
       "      <td>0.167049</td>\n",
       "    </tr>\n",
       "    <tr>\n",
       "      <th>Gekkan Shoujo Nozaki-kun</th>\n",
       "      <td>0.165715</td>\n",
       "    </tr>\n",
       "    <tr>\n",
       "      <th>Usagi Drop</th>\n",
       "      <td>0.164647</td>\n",
       "    </tr>\n",
       "    <tr>\n",
       "      <th>Yahari Ore no Seishun Love Comedy wa Machigatteiru. Zoku</th>\n",
       "      <td>0.164441</td>\n",
       "    </tr>\n",
       "    <tr>\n",
       "      <th>Tenkuu no Shiro Laputa</th>\n",
       "      <td>0.164389</td>\n",
       "    </tr>\n",
       "    <tr>\n",
       "      <th>Higurashi no Naku Koro ni</th>\n",
       "      <td>0.157723</td>\n",
       "    </tr>\n",
       "    <tr>\n",
       "      <th>Steins;Gate</th>\n",
       "      <td>0.156113</td>\n",
       "    </tr>\n",
       "    <tr>\n",
       "      <th>Ookami to Koushinryou II</th>\n",
       "      <td>0.154742</td>\n",
       "    </tr>\n",
       "    <tr>\n",
       "      <th>Evangelion: 1.0 You Are (Not) Alone</th>\n",
       "      <td>0.151978</td>\n",
       "    </tr>\n",
       "    <tr>\n",
       "      <th>Mononoke Hime</th>\n",
       "      <td>0.147982</td>\n",
       "    </tr>\n",
       "    <tr>\n",
       "      <th>Hotaru no Haka</th>\n",
       "      <td>0.145070</td>\n",
       "    </tr>\n",
       "    <tr>\n",
       "      <th>Monogatari Series: Second Season</th>\n",
       "      <td>0.140743</td>\n",
       "    </tr>\n",
       "    <tr>\n",
       "      <th>Azumanga Daioh</th>\n",
       "      <td>0.138831</td>\n",
       "    </tr>\n",
       "    <tr>\n",
       "      <th>Tengen Toppa Gurren Lagann</th>\n",
       "      <td>0.137932</td>\n",
       "    </tr>\n",
       "    <tr>\n",
       "      <th>Fate/Zero 2nd Season</th>\n",
       "      <td>0.136991</td>\n",
       "    </tr>\n",
       "    <tr>\n",
       "      <th>Cowboy Bebop: Tengoku no Tobira</th>\n",
       "      <td>0.135186</td>\n",
       "    </tr>\n",
       "    <tr>\n",
       "      <th>Fate/Zero</th>\n",
       "      <td>0.133302</td>\n",
       "    </tr>\n",
       "    <tr>\n",
       "      <th>Evangelion: 2.0 You Can (Not) Advance</th>\n",
       "      <td>0.126739</td>\n",
       "    </tr>\n",
       "    <tr>\n",
       "      <th>Kara no Kyoukai 1: Fukan Fuukei</th>\n",
       "      <td>0.124148</td>\n",
       "    </tr>\n",
       "    <tr>\n",
       "      <th>Ookami to Koushinryou</th>\n",
       "      <td>0.121761</td>\n",
       "    </tr>\n",
       "    <tr>\n",
       "      <th>Akira</th>\n",
       "      <td>0.118347</td>\n",
       "    </tr>\n",
       "    <tr>\n",
       "      <th>Suzumiya Haruhi no Shoushitsu</th>\n",
       "      <td>0.109187</td>\n",
       "    </tr>\n",
       "    <tr>\n",
       "      <th>Ergo Proxy</th>\n",
       "      <td>0.106910</td>\n",
       "    </tr>\n",
       "    <tr>\n",
       "      <th>Sayonara Zetsubou Sensei</th>\n",
       "      <td>0.093677</td>\n",
       "    </tr>\n",
       "    <tr>\n",
       "      <th>Neon Genesis Evangelion</th>\n",
       "      <td>0.092781</td>\n",
       "    </tr>\n",
       "    <tr>\n",
       "      <th>Byousoku 5 Centimeter</th>\n",
       "      <td>0.091883</td>\n",
       "    </tr>\n",
       "    <tr>\n",
       "      <th>Ghost in the Shell: Stand Alone Complex</th>\n",
       "      <td>0.088873</td>\n",
       "    </tr>\n",
       "    <tr>\n",
       "      <th>Shinsekai yori</th>\n",
       "      <td>0.082242</td>\n",
       "    </tr>\n",
       "    <tr>\n",
       "      <th>Bakemonogatari</th>\n",
       "      <td>0.075505</td>\n",
       "    </tr>\n",
       "    <tr>\n",
       "      <th>Neon Genesis Evangelion: The End of Evangelion</th>\n",
       "      <td>0.070812</td>\n",
       "    </tr>\n",
       "    <tr>\n",
       "      <th>Mahou Shoujo Madoka★Magica</th>\n",
       "      <td>0.070293</td>\n",
       "    </tr>\n",
       "    <tr>\n",
       "      <th>Paprika</th>\n",
       "      <td>0.065754</td>\n",
       "    </tr>\n",
       "    <tr>\n",
       "      <th>Cowboy Bebop</th>\n",
       "      <td>0.064961</td>\n",
       "    </tr>\n",
       "    <tr>\n",
       "      <th>NHK ni Youkoso!</th>\n",
       "      <td>0.063474</td>\n",
       "    </tr>\n",
       "    <tr>\n",
       "      <th>Ghost in the Shell</th>\n",
       "      <td>0.053962</td>\n",
       "    </tr>\n",
       "    <tr>\n",
       "      <th>FLCL</th>\n",
       "      <td>0.046725</td>\n",
       "    </tr>\n",
       "    <tr>\n",
       "      <th>Mushishi</th>\n",
       "      <td>0.037165</td>\n",
       "    </tr>\n",
       "    <tr>\n",
       "      <th>Baccano!</th>\n",
       "      <td>0.033748</td>\n",
       "    </tr>\n",
       "    <tr>\n",
       "      <th>Serial Experiments Lain</th>\n",
       "      <td>-0.024065</td>\n",
       "    </tr>\n",
       "  </tbody>\n",
       "</table>\n",
       "</div>"
      ],
      "text/plain": [
       "                                                    Correlation\n",
       "name                                                           \n",
       "Clannad: Mou Hitotsu no Sekai, Tomoyo-hen              0.168322\n",
       "School Days                                            0.167049\n",
       "Gekkan Shoujo Nozaki-kun                               0.165715\n",
       "Usagi Drop                                             0.164647\n",
       "Yahari Ore no Seishun Love Comedy wa Machigatte...     0.164441\n",
       "Tenkuu no Shiro Laputa                                 0.164389\n",
       "Higurashi no Naku Koro ni                              0.157723\n",
       "Steins;Gate                                            0.156113\n",
       "Ookami to Koushinryou II                               0.154742\n",
       "Evangelion: 1.0 You Are (Not) Alone                    0.151978\n",
       "Mononoke Hime                                          0.147982\n",
       "Hotaru no Haka                                         0.145070\n",
       "Monogatari Series: Second Season                       0.140743\n",
       "Azumanga Daioh                                         0.138831\n",
       "Tengen Toppa Gurren Lagann                             0.137932\n",
       "Fate/Zero 2nd Season                                   0.136991\n",
       "Cowboy Bebop: Tengoku no Tobira                        0.135186\n",
       "Fate/Zero                                              0.133302\n",
       "Evangelion: 2.0 You Can (Not) Advance                  0.126739\n",
       "Kara no Kyoukai 1: Fukan Fuukei                        0.124148\n",
       "Ookami to Koushinryou                                  0.121761\n",
       "Akira                                                  0.118347\n",
       "Suzumiya Haruhi no Shoushitsu                          0.109187\n",
       "Ergo Proxy                                             0.106910\n",
       "Sayonara Zetsubou Sensei                               0.093677\n",
       "Neon Genesis Evangelion                                0.092781\n",
       "Byousoku 5 Centimeter                                  0.091883\n",
       "Ghost in the Shell: Stand Alone Complex                0.088873\n",
       "Shinsekai yori                                         0.082242\n",
       "Bakemonogatari                                         0.075505\n",
       "Neon Genesis Evangelion: The End of Evangelion         0.070812\n",
       "Mahou Shoujo Madoka★Magica                             0.070293\n",
       "Paprika                                                0.065754\n",
       "Cowboy Bebop                                           0.064961\n",
       "NHK ni Youkoso!                                        0.063474\n",
       "Ghost in the Shell                                     0.053962\n",
       "FLCL                                                   0.046725\n",
       "Mushishi                                               0.037165\n",
       "Baccano!                                               0.033748\n",
       "Serial Experiments Lain                               -0.024065"
      ]
     },
     "execution_count": 19,
     "metadata": {},
     "output_type": "execute_result"
    }
   ],
   "source": [
    "# Not recommended\n",
    "find_corr(df_recom, anime1).tail(40)"
   ]
  },
  {
   "cell_type": "markdown",
   "metadata": {
    "papermill": {
     "duration": 0.031171,
     "end_time": "2021-08-10T16:06:39.665968",
     "exception": false,
     "start_time": "2021-08-10T16:06:39.634797",
     "status": "completed"
    },
    "tags": []
   },
   "source": []
  },
  {
   "cell_type": "code",
   "execution_count": null,
   "metadata": {
    "execution": {
     "iopub.execute_input": "2021-08-10T16:06:39.735367Z",
     "iopub.status.busy": "2021-08-10T16:06:39.734292Z",
     "iopub.status.idle": "2021-08-10T16:06:40.435067Z",
     "shell.execute_reply": "2021-08-10T16:06:40.434389Z"
    },
    "papermill": {
     "duration": 0.737724,
     "end_time": "2021-08-10T16:06:40.435205",
     "exception": false,
     "start_time": "2021-08-10T16:06:39.697481",
     "status": "completed"
    },
    "tags": []
   },
   "outputs": [],
   "source": []
  },
  {
   "cell_type": "code",
   "execution_count": null,
   "metadata": {
    "execution": {
     "iopub.execute_input": "2021-08-10T16:06:40.507069Z",
     "iopub.status.busy": "2021-08-10T16:06:40.505780Z",
     "iopub.status.idle": "2021-08-10T16:06:41.204161Z",
     "shell.execute_reply": "2021-08-10T16:06:41.203405Z"
    },
    "papermill": {
     "duration": 0.737743,
     "end_time": "2021-08-10T16:06:41.204282",
     "exception": false,
     "start_time": "2021-08-10T16:06:40.466539",
     "status": "completed"
    },
    "tags": []
   },
   "outputs": [],
   "source": []
  },
  {
   "cell_type": "code",
   "execution_count": null,
   "metadata": {},
   "outputs": [],
   "source": []
  }
 ],
 "metadata": {
  "kernelspec": {
   "display_name": "Python 3",
   "language": "python",
   "name": "python3"
  },
  "language_info": {
   "codemirror_mode": {
    "name": "ipython",
    "version": 3
   },
   "file_extension": ".py",
   "mimetype": "text/x-python",
   "name": "python",
   "nbconvert_exporter": "python",
   "pygments_lexer": "ipython3",
   "version": "3.7.4"
  },
  "papermill": {
   "duration": 44.67245,
   "end_time": "2021-08-10T16:06:41.346129",
   "environment_variables": {},
   "exception": null,
   "input_path": "__notebook__.ipynb",
   "output_path": "__notebook__.ipynb",
   "parameters": {},
   "start_time": "2021-08-10T16:05:56.673679",
   "version": "2.1.0"
  }
 },
 "nbformat": 4,
 "nbformat_minor": 4
}
